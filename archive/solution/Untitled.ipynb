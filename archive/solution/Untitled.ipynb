{
 "cells": [
  {
   "cell_type": "code",
   "execution_count": 1,
   "id": "59d968bd",
   "metadata": {},
   "outputs": [],
   "source": [
    "# this is the shape of x_t torch.Size([2, 4, 64, 64])\n",
    "# this is the shape of x_t[:1]  torch.Size([1, 4, 64, 64])\n",
    "# this is the shape of x_t - x_t[:1] torch.Size([2, 4, 64, 64])\n",
    "# this is the shape of mask torch.Size([2, 1, 64, 64])\n",
    "# this is output of x_t torch.Size([2, 4, 64, 64])\n",
    "\n",
    "# mask = a[:1] + a\n",
    "# x_t = b[:1] + mask * (b - b[:1])\n",
    "\n",
    "import torch\n",
    "mask = torch.rand(2,1,64,64)"
   ]
  },
  {
   "cell_type": "code",
   "execution_count": 2,
   "id": "e9b898fb",
   "metadata": {},
   "outputs": [
    {
     "data": {
      "text/plain": [
       "torch.Size([3, 1, 64, 64])"
      ]
     },
     "execution_count": 2,
     "metadata": {},
     "output_type": "execute_result"
    }
   ],
   "source": [
    "mask.shape"
   ]
  },
  {
   "cell_type": "code",
   "execution_count": 21,
   "id": "2c21603d",
   "metadata": {},
   "outputs": [
    {
     "data": {
      "text/plain": [
       "torch.Size([2, 4, 64, 64])"
      ]
     },
     "execution_count": 21,
     "metadata": {},
     "output_type": "execute_result"
    }
   ],
   "source": [
    "a = torch.rand(2,1,64,64)\n",
    "b = torch.rand(2,4,64,64)\n",
    "\n",
    "def multiply1(a,b):\n",
    "    mask =  a[:1] + a\n",
    "    b = b[:1] + mask * (b - b[:1])\n",
    "    return b\n",
    "\n",
    "result1 = multiply1(a,b)\n",
    "result1.shape"
   ]
  },
  {
   "cell_type": "code",
   "execution_count": 22,
   "id": "d17e9016",
   "metadata": {},
   "outputs": [],
   "source": [
    "def multiply2(a,b):\n",
    "    mask =  a[:1] + a\n",
    "    b1 = b[:1]\n",
    "    b2 = b[1:]\n",
    "    # 构造mask\n",
    "    # 构造B \n",
    "    B = torch.cat([torch.zeros_like(b1), b2-b1], dim=0)\n",
    "    # 逐元素相乘\n",
    "    out = mask * B\n",
    "    return out + b[:1]\n",
    "result2 = multiply2(a,b)\n"
   ]
  },
  {
   "cell_type": "code",
   "execution_count": 23,
   "id": "53247255",
   "metadata": {},
   "outputs": [
    {
     "data": {
      "text/plain": [
       "tensor([[[[True, True, True,  ..., True, True, True],\n",
       "          [True, True, True,  ..., True, True, True],\n",
       "          [True, True, True,  ..., True, True, True],\n",
       "          ...,\n",
       "          [True, True, True,  ..., True, True, True],\n",
       "          [True, True, True,  ..., True, True, True],\n",
       "          [True, True, True,  ..., True, True, True]],\n",
       "\n",
       "         [[True, True, True,  ..., True, True, True],\n",
       "          [True, True, True,  ..., True, True, True],\n",
       "          [True, True, True,  ..., True, True, True],\n",
       "          ...,\n",
       "          [True, True, True,  ..., True, True, True],\n",
       "          [True, True, True,  ..., True, True, True],\n",
       "          [True, True, True,  ..., True, True, True]],\n",
       "\n",
       "         [[True, True, True,  ..., True, True, True],\n",
       "          [True, True, True,  ..., True, True, True],\n",
       "          [True, True, True,  ..., True, True, True],\n",
       "          ...,\n",
       "          [True, True, True,  ..., True, True, True],\n",
       "          [True, True, True,  ..., True, True, True],\n",
       "          [True, True, True,  ..., True, True, True]],\n",
       "\n",
       "         [[True, True, True,  ..., True, True, True],\n",
       "          [True, True, True,  ..., True, True, True],\n",
       "          [True, True, True,  ..., True, True, True],\n",
       "          ...,\n",
       "          [True, True, True,  ..., True, True, True],\n",
       "          [True, True, True,  ..., True, True, True],\n",
       "          [True, True, True,  ..., True, True, True]]],\n",
       "\n",
       "\n",
       "        [[[True, True, True,  ..., True, True, True],\n",
       "          [True, True, True,  ..., True, True, True],\n",
       "          [True, True, True,  ..., True, True, True],\n",
       "          ...,\n",
       "          [True, True, True,  ..., True, True, True],\n",
       "          [True, True, True,  ..., True, True, True],\n",
       "          [True, True, True,  ..., True, True, True]],\n",
       "\n",
       "         [[True, True, True,  ..., True, True, True],\n",
       "          [True, True, True,  ..., True, True, True],\n",
       "          [True, True, True,  ..., True, True, True],\n",
       "          ...,\n",
       "          [True, True, True,  ..., True, True, True],\n",
       "          [True, True, True,  ..., True, True, True],\n",
       "          [True, True, True,  ..., True, True, True]],\n",
       "\n",
       "         [[True, True, True,  ..., True, True, True],\n",
       "          [True, True, True,  ..., True, True, True],\n",
       "          [True, True, True,  ..., True, True, True],\n",
       "          ...,\n",
       "          [True, True, True,  ..., True, True, True],\n",
       "          [True, True, True,  ..., True, True, True],\n",
       "          [True, True, True,  ..., True, True, True]],\n",
       "\n",
       "         [[True, True, True,  ..., True, True, True],\n",
       "          [True, True, True,  ..., True, True, True],\n",
       "          [True, True, True,  ..., True, True, True],\n",
       "          ...,\n",
       "          [True, True, True,  ..., True, True, True],\n",
       "          [True, True, True,  ..., True, True, True],\n",
       "          [True, True, True,  ..., True, True, True]]]])"
      ]
     },
     "execution_count": 23,
     "metadata": {},
     "output_type": "execute_result"
    }
   ],
   "source": [
    "result1 == result2"
   ]
  },
  {
   "cell_type": "code",
   "execution_count": 11,
   "id": "b5436f78",
   "metadata": {},
   "outputs": [
    {
     "data": {
      "text/plain": [
       "tensor([[[[ 0.0101,  0.0338,  0.5380,  ...,  0.3174,  0.3573,  0.4834],\n",
       "          [ 0.8936,  0.9852,  0.3406,  ...,  0.1122,  0.2482,  0.3258],\n",
       "          [ 0.5067,  0.6951,  0.9165,  ...,  0.6333,  0.6827,  0.4995],\n",
       "          ...,\n",
       "          [ 0.0020,  0.2358,  0.2880,  ...,  0.1560,  0.1522,  0.9968],\n",
       "          [ 0.5688,  0.2128,  0.7486,  ...,  0.6553,  0.0288,  0.3350],\n",
       "          [ 0.8682,  0.6423,  0.8659,  ...,  0.0192,  0.8624,  0.0718]],\n",
       "\n",
       "         [[ 0.4161,  0.1172,  0.4687,  ...,  0.4291,  0.8009,  0.3553],\n",
       "          [ 0.1638,  0.6944,  0.9011,  ...,  0.7952,  0.2310,  0.9476],\n",
       "          [ 0.7574,  0.4651,  0.0333,  ...,  0.4032,  0.4726,  0.2191],\n",
       "          ...,\n",
       "          [ 0.0550,  0.5336,  0.6387,  ...,  0.3608,  0.2539,  0.7873],\n",
       "          [ 0.1874,  0.5098,  0.1846,  ...,  0.1498,  0.1411,  0.8519],\n",
       "          [ 0.6019,  0.1503,  0.7358,  ...,  0.0251,  0.7311,  0.0157]],\n",
       "\n",
       "         [[ 0.2715,  0.8178,  0.4462,  ...,  0.0359,  0.6100,  0.6553],\n",
       "          [ 0.6653,  0.3887,  0.8865,  ...,  0.8404,  0.6441,  0.2124],\n",
       "          [ 0.1819,  0.6956,  0.9680,  ...,  0.1438,  0.8728,  0.6657],\n",
       "          ...,\n",
       "          [ 0.5043,  0.8490,  0.5205,  ...,  0.9902,  0.9367,  0.1887],\n",
       "          [ 0.7723,  0.1004,  0.6975,  ...,  0.4126,  0.3852,  0.4935],\n",
       "          [ 0.8872,  0.7626,  0.6725,  ...,  0.9060,  0.9330,  0.6570]],\n",
       "\n",
       "         [[ 0.5803,  0.2652,  0.6691,  ...,  0.3929,  0.9859,  0.3079],\n",
       "          [ 0.4574,  0.0295,  0.9688,  ...,  0.3206,  0.5183,  0.6710],\n",
       "          [ 0.0069,  0.8570,  0.6366,  ...,  0.5241,  0.5091,  0.7425],\n",
       "          ...,\n",
       "          [ 0.4424,  0.3055,  0.9192,  ...,  0.1450,  0.7110,  0.0268],\n",
       "          [ 0.8394,  0.2423,  0.9079,  ...,  0.5497,  0.4485,  0.2250],\n",
       "          [ 0.6873,  0.1816,  0.7735,  ...,  0.8739,  0.0413,  0.6343]]],\n",
       "\n",
       "\n",
       "        [[[ 0.8720,  1.0312,  0.3039,  ...,  0.5216,  0.0980, -0.1703],\n",
       "          [-0.1502, -0.6130,  0.3143,  ...,  0.1472, -0.1955,  0.0238],\n",
       "          [ 0.6525,  0.1778,  0.0141,  ..., -0.2454, -0.0363, -0.0492],\n",
       "          ...,\n",
       "          [ 1.1086,  0.4729,  0.3115,  ...,  0.2919, -0.2016, -0.5778],\n",
       "          [ 0.0499,  0.2478,  0.0524,  ...,  0.4581,  1.4679,  0.0483],\n",
       "          [-0.3417, -0.2682, -1.1553,  ...,  0.6419, -0.6493, -0.0478]],\n",
       "\n",
       "         [[-0.4669,  0.3955, -0.4271,  ...,  0.5007,  0.2540,  0.8506],\n",
       "          [ 0.5425, -0.3746, -0.7802,  ..., -0.1270, -0.0773, -0.0823],\n",
       "          [-0.0954, -0.0865,  0.2459,  ...,  0.4558,  0.0058, -0.1416],\n",
       "          ...,\n",
       "          [ 0.9306, -0.5918, -0.0928,  ...,  0.2911,  0.6020, -0.6535],\n",
       "          [ 0.5035, -0.2634,  0.0773,  ...,  0.8038,  1.0591, -0.5212],\n",
       "          [-0.2456,  0.1437,  0.1008,  ...,  0.4504,  0.0141, -0.0182]],\n",
       "\n",
       "         [[ 0.6151, -0.7411,  0.3996,  ...,  1.0218, -0.3780, -0.3012],\n",
       "          [-0.0355, -0.1356,  0.0202,  ..., -0.0603,  0.3060,  1.1263],\n",
       "          [ 0.0627,  0.3048, -0.8718,  ...,  0.6253, -0.0780,  0.1175],\n",
       "          ...,\n",
       "          [-0.1014,  0.0527, -0.0208,  ..., -0.0676, -0.5000, -0.2121],\n",
       "          [-0.6424,  0.4587, -0.5950,  ..., -0.0684, -0.3834,  0.0470],\n",
       "          [-0.2866, -0.5657, -0.0380,  ..., -0.6943, -0.0683, -0.7220]],\n",
       "\n",
       "         [[ 0.0445,  0.0140, -0.3106,  ...,  0.1300, -1.2012,  0.2779],\n",
       "          [ 0.1874,  0.0538, -0.6384,  ...,  0.2813, -0.2107, -0.2542],\n",
       "          [ 0.5717, -0.3465, -0.6450,  ...,  0.2851, -0.0335, -0.5104],\n",
       "          ...,\n",
       "          [ 0.4464,  0.3054, -0.2115,  ..., -0.0540, -0.0329,  1.6759],\n",
       "          [-0.8886,  1.0949, -0.8165,  ...,  0.7706, -0.6630,  0.4146],\n",
       "          [-0.1665,  0.2374, -0.7633,  ..., -0.7152,  0.2445,  0.2805]]]])"
      ]
     },
     "execution_count": 11,
     "metadata": {},
     "output_type": "execute_result"
    }
   ],
   "source": []
  },
  {
   "cell_type": "code",
   "execution_count": null,
   "id": "ad1a3c49",
   "metadata": {},
   "outputs": [],
   "source": []
  }
 ],
 "metadata": {
  "kernelspec": {
   "display_name": "Python 3 (ipykernel)",
   "language": "python",
   "name": "python3"
  },
  "language_info": {
   "codemirror_mode": {
    "name": "ipython",
    "version": 3
   },
   "file_extension": ".py",
   "mimetype": "text/x-python",
   "name": "python",
   "nbconvert_exporter": "python",
   "pygments_lexer": "ipython3",
   "version": "3.10.9"
  }
 },
 "nbformat": 4,
 "nbformat_minor": 5
}
